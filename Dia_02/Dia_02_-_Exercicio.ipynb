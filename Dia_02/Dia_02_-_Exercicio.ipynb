{
  "nbformat": 4,
  "nbformat_minor": 0,
  "metadata": {
    "colab": {
      "provenance": [],
      "toc_visible": true
    },
    "kernelspec": {
      "name": "python3",
      "display_name": "Python 3"
    },
    "language_info": {
      "name": "python"
    }
  },
  "cells": [
    {
      "cell_type": "code",
      "execution_count": 4,
      "metadata": {
        "id": "QEGw7_VBo42z"
      },
      "outputs": [],
      "source": [
        "import pandas as pd\n",
        "import matplotlib.pyplot as plt\n",
        "import plotly.express as px"
      ]
    },
    {
      "cell_type": "code",
      "source": [
        "df = pd.read_csv(\"bestsellers_with_categories_2022_03_27.csv\")"
      ],
      "metadata": {
        "id": "DLs9BYdBpor5"
      },
      "execution_count": 71,
      "outputs": []
    },
    {
      "cell_type": "code",
      "source": [
        "df.head()"
      ],
      "metadata": {
        "colab": {
          "base_uri": "https://localhost:8080/",
          "height": 206
        },
        "id": "F3r4guTiKFEm",
        "outputId": "80a392e3-82e3-405e-99cf-505c9d1f507e"
      },
      "execution_count": 72,
      "outputs": [
        {
          "output_type": "execute_result",
          "data": {
            "text/plain": [
              "                                                Name            Author  \\\n",
              "0  Act Like a Lady, Think Like a Man: What Men Re...      Steve Harvey   \n",
              "1  Arguing with Idiots: How to Stop Small Minds a...        Glenn Beck   \n",
              "2          Breaking Dawn (The Twilight Saga, Book 4)   Stephenie Meyer   \n",
              "3        Crazy Love: Overwhelmed by a Relentless God      Francis Chan   \n",
              "4  Dead And Gone: A Sookie Stackhouse Novel (Sook...  Charlaine Harris   \n",
              "\n",
              "   User Rating  Reviews  Price  Year        Genre  \n",
              "0          4.6     5013     17  2009  Non Fiction  \n",
              "1          4.6      798      5  2009  Non Fiction  \n",
              "2          4.6     9769     13  2009      Fiction  \n",
              "3          4.7     1542     14  2009  Non Fiction  \n",
              "4          4.6     1541      4  2009      Fiction  "
            ],
            "text/html": [
              "\n",
              "  <div id=\"df-e2723aaf-807a-43b3-a90c-c9ed59711da6\">\n",
              "    <div class=\"colab-df-container\">\n",
              "      <div>\n",
              "<style scoped>\n",
              "    .dataframe tbody tr th:only-of-type {\n",
              "        vertical-align: middle;\n",
              "    }\n",
              "\n",
              "    .dataframe tbody tr th {\n",
              "        vertical-align: top;\n",
              "    }\n",
              "\n",
              "    .dataframe thead th {\n",
              "        text-align: right;\n",
              "    }\n",
              "</style>\n",
              "<table border=\"1\" class=\"dataframe\">\n",
              "  <thead>\n",
              "    <tr style=\"text-align: right;\">\n",
              "      <th></th>\n",
              "      <th>Name</th>\n",
              "      <th>Author</th>\n",
              "      <th>User Rating</th>\n",
              "      <th>Reviews</th>\n",
              "      <th>Price</th>\n",
              "      <th>Year</th>\n",
              "      <th>Genre</th>\n",
              "    </tr>\n",
              "  </thead>\n",
              "  <tbody>\n",
              "    <tr>\n",
              "      <th>0</th>\n",
              "      <td>Act Like a Lady, Think Like a Man: What Men Re...</td>\n",
              "      <td>Steve Harvey</td>\n",
              "      <td>4.6</td>\n",
              "      <td>5013</td>\n",
              "      <td>17</td>\n",
              "      <td>2009</td>\n",
              "      <td>Non Fiction</td>\n",
              "    </tr>\n",
              "    <tr>\n",
              "      <th>1</th>\n",
              "      <td>Arguing with Idiots: How to Stop Small Minds a...</td>\n",
              "      <td>Glenn Beck</td>\n",
              "      <td>4.6</td>\n",
              "      <td>798</td>\n",
              "      <td>5</td>\n",
              "      <td>2009</td>\n",
              "      <td>Non Fiction</td>\n",
              "    </tr>\n",
              "    <tr>\n",
              "      <th>2</th>\n",
              "      <td>Breaking Dawn (The Twilight Saga, Book 4)</td>\n",
              "      <td>Stephenie Meyer</td>\n",
              "      <td>4.6</td>\n",
              "      <td>9769</td>\n",
              "      <td>13</td>\n",
              "      <td>2009</td>\n",
              "      <td>Fiction</td>\n",
              "    </tr>\n",
              "    <tr>\n",
              "      <th>3</th>\n",
              "      <td>Crazy Love: Overwhelmed by a Relentless God</td>\n",
              "      <td>Francis Chan</td>\n",
              "      <td>4.7</td>\n",
              "      <td>1542</td>\n",
              "      <td>14</td>\n",
              "      <td>2009</td>\n",
              "      <td>Non Fiction</td>\n",
              "    </tr>\n",
              "    <tr>\n",
              "      <th>4</th>\n",
              "      <td>Dead And Gone: A Sookie Stackhouse Novel (Sook...</td>\n",
              "      <td>Charlaine Harris</td>\n",
              "      <td>4.6</td>\n",
              "      <td>1541</td>\n",
              "      <td>4</td>\n",
              "      <td>2009</td>\n",
              "      <td>Fiction</td>\n",
              "    </tr>\n",
              "  </tbody>\n",
              "</table>\n",
              "</div>\n",
              "      <button class=\"colab-df-convert\" onclick=\"convertToInteractive('df-e2723aaf-807a-43b3-a90c-c9ed59711da6')\"\n",
              "              title=\"Convert this dataframe to an interactive table.\"\n",
              "              style=\"display:none;\">\n",
              "        \n",
              "  <svg xmlns=\"http://www.w3.org/2000/svg\" height=\"24px\"viewBox=\"0 0 24 24\"\n",
              "       width=\"24px\">\n",
              "    <path d=\"M0 0h24v24H0V0z\" fill=\"none\"/>\n",
              "    <path d=\"M18.56 5.44l.94 2.06.94-2.06 2.06-.94-2.06-.94-.94-2.06-.94 2.06-2.06.94zm-11 1L8.5 8.5l.94-2.06 2.06-.94-2.06-.94L8.5 2.5l-.94 2.06-2.06.94zm10 10l.94 2.06.94-2.06 2.06-.94-2.06-.94-.94-2.06-.94 2.06-2.06.94z\"/><path d=\"M17.41 7.96l-1.37-1.37c-.4-.4-.92-.59-1.43-.59-.52 0-1.04.2-1.43.59L10.3 9.45l-7.72 7.72c-.78.78-.78 2.05 0 2.83L4 21.41c.39.39.9.59 1.41.59.51 0 1.02-.2 1.41-.59l7.78-7.78 2.81-2.81c.8-.78.8-2.07 0-2.86zM5.41 20L4 18.59l7.72-7.72 1.47 1.35L5.41 20z\"/>\n",
              "  </svg>\n",
              "      </button>\n",
              "      \n",
              "  <style>\n",
              "    .colab-df-container {\n",
              "      display:flex;\n",
              "      flex-wrap:wrap;\n",
              "      gap: 12px;\n",
              "    }\n",
              "\n",
              "    .colab-df-convert {\n",
              "      background-color: #E8F0FE;\n",
              "      border: none;\n",
              "      border-radius: 50%;\n",
              "      cursor: pointer;\n",
              "      display: none;\n",
              "      fill: #1967D2;\n",
              "      height: 32px;\n",
              "      padding: 0 0 0 0;\n",
              "      width: 32px;\n",
              "    }\n",
              "\n",
              "    .colab-df-convert:hover {\n",
              "      background-color: #E2EBFA;\n",
              "      box-shadow: 0px 1px 2px rgba(60, 64, 67, 0.3), 0px 1px 3px 1px rgba(60, 64, 67, 0.15);\n",
              "      fill: #174EA6;\n",
              "    }\n",
              "\n",
              "    [theme=dark] .colab-df-convert {\n",
              "      background-color: #3B4455;\n",
              "      fill: #D2E3FC;\n",
              "    }\n",
              "\n",
              "    [theme=dark] .colab-df-convert:hover {\n",
              "      background-color: #434B5C;\n",
              "      box-shadow: 0px 1px 3px 1px rgba(0, 0, 0, 0.15);\n",
              "      filter: drop-shadow(0px 1px 2px rgba(0, 0, 0, 0.3));\n",
              "      fill: #FFFFFF;\n",
              "    }\n",
              "  </style>\n",
              "\n",
              "      <script>\n",
              "        const buttonEl =\n",
              "          document.querySelector('#df-e2723aaf-807a-43b3-a90c-c9ed59711da6 button.colab-df-convert');\n",
              "        buttonEl.style.display =\n",
              "          google.colab.kernel.accessAllowed ? 'block' : 'none';\n",
              "\n",
              "        async function convertToInteractive(key) {\n",
              "          const element = document.querySelector('#df-e2723aaf-807a-43b3-a90c-c9ed59711da6');\n",
              "          const dataTable =\n",
              "            await google.colab.kernel.invokeFunction('convertToInteractive',\n",
              "                                                     [key], {});\n",
              "          if (!dataTable) return;\n",
              "\n",
              "          const docLinkHtml = 'Like what you see? Visit the ' +\n",
              "            '<a target=\"_blank\" href=https://colab.research.google.com/notebooks/data_table.ipynb>data table notebook</a>'\n",
              "            + ' to learn more about interactive tables.';\n",
              "          element.innerHTML = '';\n",
              "          dataTable['output_type'] = 'display_data';\n",
              "          await google.colab.output.renderOutput(dataTable, element);\n",
              "          const docLink = document.createElement('div');\n",
              "          docLink.innerHTML = docLinkHtml;\n",
              "          element.appendChild(docLink);\n",
              "        }\n",
              "      </script>\n",
              "    </div>\n",
              "  </div>\n",
              "  "
            ]
          },
          "metadata": {},
          "execution_count": 72
        }
      ]
    },
    {
      "cell_type": "code",
      "source": [
        "plt.bar(df['User Rating'],df['Price'])\n",
        "plt.show()"
      ],
      "metadata": {
        "colab": {
          "base_uri": "https://localhost:8080/",
          "height": 265
        },
        "id": "j0TNy39AKewC",
        "outputId": "77ecd0ea-1bb5-4ac1-f5fb-23000fcb0363"
      },
      "execution_count": 85,
      "outputs": [
        {
          "output_type": "display_data",
          "data": {
            "text/plain": [
              "<Figure size 432x288 with 1 Axes>"
            ],
            "image/png": "[encoded data removed]"
          },
          "metadata": {
            "needs_background": "light"
          }
        }
      ]
    },
    {
      "cell_type": "markdown",
      "source": [
        "No ranking dos livros mais vendidos, destacam-se os que obtiveram as melhores avaliaçoes feitas pelos usuários."
      ],
      "metadata": {
        "id": "txj7k14fT3Ff"
      }
    },
    {
      "cell_type": "code",
      "source": [
        "plt.hist(x=df['Genre'], color='blue')\n",
        "plt.show"
      ],
      "metadata": {
        "colab": {
          "base_uri": "https://localhost:8080/",
          "height": 282
        },
        "id": "wOGTzgIVT3na",
        "outputId": "a5fb0306-771d-4c81-9d75-e1ac2fba8c16"
      },
      "execution_count": 103,
      "outputs": [
        {
          "output_type": "execute_result",
          "data": {
            "text/plain": [
              "<function matplotlib.pyplot.show(*args, **kw)>"
            ]
          },
          "metadata": {},
          "execution_count": 103
        },
        {
          "output_type": "display_data",
          "data": {
            "text/plain": [
              "<Figure size 432x288 with 1 Axes>"
            ],
            "image/png": "[encoded data removed]"
          },
          "metadata": {
            "needs_background": "light"
          }
        }
      ]
    },
    {
      "cell_type": "markdown",
      "source": [
        "Tendo em vista que as obras de não ficção representam a junção das mais diversas classificações na literatura, o livros de ficção dominam o ranking de vendas."
      ],
      "metadata": {
        "id": "pLiOXh8pYOvn"
      }
    },
    {
      "cell_type": "code",
      "source": [
        "grafico = px.line(df['Author'])\n",
        "grafico.show()"
      ],
      "metadata": {
        "colab": {
          "base_uri": "https://localhost:8080/",
          "height": 542
        },
        "id": "1x7VgpZoYQKm",
        "outputId": "4a72e6c2-2d6e-435e-821b-3469b70d47f2"
      },
      "execution_count": 102,
      "outputs": [
        {
          "output_type": "display_data",
          "data": {
            "text/html": [
              "<html>\n",
              "<head><meta charset=\"utf-8\" /></head>\n",
              "<body>\n",
              "    <div>            <script src=\"https://cdnjs.cloudflare.com/ajax/libs/mathjax/2.7.5/MathJax.js?config=TeX-AMS-MML_SVG\"></script><script type=\"text/javascript\">if (window.MathJax) {MathJax.Hub.Config({SVG: {font: \"STIX-Web\"}});}</script>                <script type=\"text/javascript\">window.PlotlyConfig = {MathJaxConfig: 'local'};</script>\n",
              "        <script src=\"https://cdn.plot.ly/plotly-2.8.3.min.js\"></script>                <div id=\"7b9517f2-712a-4cc5-a817-9a215b79783e\" class=\"plotly-graph-div\" style=\"height:525px; width:100%;\"></div>            <script type=\"text/javascript\">                                    window.PLOTLYENV=window.PLOTLYENV || {};                                    if (document.getElementById(\"7b9517f2-712a-4cc5-a817-9a215b79783e\")) {                    Plotly.newPlot(                        \"7b9517f2-712a-4cc5-a817-9a215b79783e\",                        [{\"hovertemplate\":\"variable=Author<br>index=%{x}<br>value=%{y}<extra></extra>\",\"legendgroup\":\"Author\",\"line\":{\"color\":\"#636efa\",\"dash\":\"solid\"},\"marker\":{\"symbol\":\"circle\"},\"mode\":\"lines\",\"name\":\"Author\",\"orientation\":\"v\",\"showlegend\":true,\"x\":[0,1,2,3,4,5,6,7,8,9,10,11,12,13,14,15,16,17,18,19,20,21,22,23,24,25,26,27,28,29,30,31,32,33,34,35,36,37,38,39,40,41,42,43,44,45,46,47,48,49,50,51,52,53,54,55,56,57,58,59,60,61,62,63,64,65,66,67,68,69,70,71,72,73,74,75,76,77,78,79,80,81,82,83,84,85,86,87,88,89,90,91,92,93,94,95,96,97,98,99,100,101,102,103,104,105,106,107,108,109,110,111,112,113,114,115,116,117,118,119,120,121,122,123,124,125,126,127,128,129,130,131,132,133,134,135,136,137,138,139,140,141,142,143,144,145,146,147,148,149,150,151,152,153,154,155,156,157,158,159,160,161,162,163,164,165,166,167,168,169,170,171,172,173,174,175,176,177,178,179,180,181,182,183,184,185,186,187,188,189,190,191,192,193,194,195,196,197,198,199,200,201,202,203,204,205,206,207,208,209,210,211,212,213,214,215,216,217,218,219,220,221,222,223,224,225,226,227,228,229,230,231,232,233,234,235,236,237,238,239,240,241,242,243,244,245,246,247,248,249,250,251,252,253,254,255,256,257,258,259,260,261,262,263,264,265,266,267,268,269,270,271,272,273,274,275,276,277,278,279,280,281,282,283,284,285,286,287,288,289,290,291,292,293,294,295,296,297,298,299,300,301,302,303,304,305,306,307,308,309,310,311,312,313,314,315,316,317,318,319,320,321,322,323,324,325,326,327,328,329,330,331,332,333,334,335,336,337,338,339,340,341,342,343,344,345,346,347,348,349,350,351,352,353,354,355,356,357,358,359,360,361,362,363,364,365,366,367,368,369,370,371,372,373,374,375,376,377,378,379,380,381,382,383,384,385,386,387,388,389,390,391,392,393,394,395,396,397,398,399,400,401,402,403,404,405,406,407,408,409,410,411,412,413,414,415,416,417,418,419,420,421,422,423,424,425,426,427,428,429,430,431,432,433,434,435,436,437,438,439,440,441,442,443,444,445,446,447,448,449,450,451,452,453,454,455,456,457,458,459,460,461,462,463,464,465,466,467,468,469,470,471,472,473,474,475,476,477,478,479,480,481,482,483,484,485,486,487,488,489,490,491,492,493,494,495,496,497,498,499,500,501,502,503,504,505,506,507,508,509,510,511,512,513,514,515,516,517,518,519,520,521,522,523,524,525,526,527,528,529,530,531,532,533,534,535,536,537,538,539,540,541,542,543,544,545,546,547,548,549,550,551,552,553,554,555,556,557,558,559,560,561,562,563,564,565,566,567,568,569,570,571,572,573,574,575,576,577,578,579,580,581,582,583,584,585,586,587,588,589,590,591,592,593,594,595,596,597,598,599,600,601,602,603,604,605,606,607,608,609,610,611,612,613,614,615,616,617,618,619,620,621,622,623,624,625,626,627,628,629,630,631,632,633,634,635,636,637,638,639,640,641,642,643,644,645,646,647,648,649,650,651,652,653,654,655,656,657,658,659,660,661,662,663,664,665,666,667,668,669,670,671,672,673,674,675,676,677,678,679,680,681,682,683,684,685,686,687,688,689,690,691,692,693,694,695,696,697,698,699],\"xaxis\":\"x\",\"y\":[\"Steve Harvey\",\"Glenn Beck\",\"Stephenie Meyer\",\"Francis Chan\",\"Charlaine Harris\",\"Jeff Kinney\",\"Zhi Gang Sha\",\"Jeff Kinney\",\"David Zinczenko\",\"David Zinczenko\",\"Stephenie Meyer\",\"Stephenie Meyer\",\"Glenn Beck\",\"Sarah Palin\",\"Jim Collins\",\"Mitch Albom\",\"James Patterson\",\"Mark R. Levin\",\"Julia Child\",\"Stephenie Meyer\",\"Elizabeth Strout\",\"Malcolm Gladwell\",\"American Psychological Association\",\"Charlaine Harris\",\"Gallup\",\"Steven D. Levitt\",\"W. Cleon Skousen\",\"Stephen R. Covey\",\"Bill Simmons\",\"Muriel Barbery\",\"Patrick Lencioni\",\"Gary Chapman\",\"Stieg Larsson\",\"Stieg Larsson\",\"Mary Ann Shaffer\",\"Kathryn Stockett\",\"Randy Pausch\",\"Rick Riordan\",\"Dan Brown\",\"Stephen Kendrick\",\"William P. Young\",\"Audrey Niffenegger\",\"Malcolm Gladwell\",\"Stephenie Meyer\",\"Greg Mortenson\",\"Edward M. Kennedy\",\"Stephenie Meyer\",\"Stephen King\",\"Alan Moore\",\"Maurice Sendak\",\"Larry Schweikart\",\"Mark Twain\",\"Ina Garten\",\"Glenn Beck\",\"Suzanne Collins\",\"Francis Chan\",\"Abraham Verghese\",\"Charlaine Harris\",\"George W. Bush\",\"Tony Hsieh\",\"Daniel H. Pink\",\"Michael Pollan\",\"John Heilemann\",\"Peter A. Lillback\",\"Jim Collins\",\"Keith Richards\",\"Chris Cleave\",\"Suzanne Collins\",\"Malcolm Gladwell\",\"Rick Riordan\",\"American Psychological Association\",\"David Platt\",\"Tatiana de Rosnay\",\"Justin Halpern\",\"Gallup\",\"Chip Heath\",\"Doug Lemov\",\"Gary Chapman\",\"Garth Stein\",\"Michael Lewis\",\"John Grisham\",\"Jon Stewart\",\"Patrick Lencioni\",\"Stieg Larsson\",\"Stieg Larsson\",\"Stieg Larsson\",\"Kathryn Stockett\",\"Suzanne Collins\",\"Rebecca Skloot\",\"Rick Riordan\",\"Rick Riordan\",\"The College Board\",\"Rick Riordan\",\"F. A. Hayek\",\"Stephenie Meyer\",\"Jeff Kinney\",\"Greg Mortenson\",\"Robert Jordan\",\"Laura Hillenbrand\",\"Geneen Roth\",\"Stephen King\",\"George R. R. Martin\",\"Jaycee Dugard\",\"Jeff Kinney\",\"Suzanne Collins\",\"Francis Chan\",\"Abraham Verghese\",\"Charlaine Harris\",\"Joel Fuhrman MD\",\"George R.R. Martin\",\"Adam Mansbach\",\"Jim Collins\",\"Todd Burpo\",\"Eric Larson\",\"Christopher Paolini\",\"Sarah Young\",\"Bill O'Reilly\",\"Rob Bell\",\"Suzanne Collins\",\"Ann Voskamp\",\"American Psychological Association\",\"David Platt\",\"Walter Isaacson\",\"Gallup\",\"Doug Lemov\",\"Mike Moreno\",\"Timothy Ferriss\",\"Gary Chapman\",\"Stephen R. Covey\",\"Garth Stein\",\"Thomas Campbell\",\"Pierre Dukan\",\"Patrick Lencioni\",\"Stieg Larsson\",\"Kathryn Stockett\",\"Kathryn Stockett\",\"Suzanne Collins\",\"Suzanne Collins\",\"Rebecca Skloot\",\"Daniel Lipkowitz\",\"John Grisham\",\"The College Board\",\"Paula McLain\",\"Rick Riordan\",\"Rick Riordan\",\"Daniel Kahneman\",\"Tina Fey\",\"Laura Hillenbrand\",\"Sara Gruen\",\"Heidi Murkoff\",\"Ina Garten\",\"Suzanne Collins\",\"Joel Fuhrman MD\",\"E L James\",\"E L James\",\"E L James\",\"E L James\",\"George R.R. Martin\",\"Gillian Flynn\",\"Jim Collins\",\"Sherri Duskey Rinker\",\"Todd Burpo\",\"Sarah Young\",\"Bill O'Reilly\",\"Bill O'Reilly\",\"Suzanne Collins\",\"Mark Owen\",\"Dr. Seuss\",\"Ann Voskamp\",\"Eben Alexander\",\"American Psychological Association\",\"Susan Cain\",\"Walter Isaacson\",\"Gallup\",\"Gary Chapman\",\"Stephen R. Covey\",\"Edward Klein\",\"Mark Hyman M.D.\",\"J.K. Rowling\",\"John Green\",\"Patrick Lencioni\",\"F. Scott Fitzgerald\",\"Jonathan Cahn\",\"Suzanne Collins\",\"Suzanne Collins\",\"Rebecca Skloot\",\"Daniel Lipkowitz\",\"Rick Riordan\",\"The College Board\",\"Ree Drummond\",\"Charles Duhigg\",\"John Grisham\",\"Rick Riordan\",\"Jeff Kinney\",\"Daniel Kahneman\",\"Jon Meacham\",\"Laura Hillenbrand\",\"William Davis\",\"Cheryl Strayed\",\"Ken Follett\",\"Veronica Roth\",\"Khaled Hosseini\",\"Brene\\u0301 Brown\",\"Malcolm Gladwell\",\"American Psychiatric Association\",\"Jeff Kinney\",\"Veronica Roth\",\"Stephen King\",\"E L James\",\"George R.R. Martin\",\"Brian Kilmeade\",\"Gillian Flynn\",\"Sherri Duskey Rinker\",\"Phil Robertson\",\"Brandon Stanton\",\"Allie Brosh\",\"Dan Brown\",\"Sarah Young\",\"Stephen King\",\"Bill O'Reilly\",\"Rob Elliott\",\"Rob Elliott\",\"Sheryl Sandberg\",\"Dr. Seuss\",\"Eben Alexander\",\"American Psychological Association\",\"Susan Cain\",\"Rush Limbaugh\",\"Ian K. Smith M.D.\",\"Zhi Gang Sha\",\"Gallup\",\"John Grisham\",\"Gary Chapman\",\"Stephen R. Covey\",\"Markus Zusak\",\"Drew Daywalt\",\"John Green\",\"Patrick Lencioni\",\"Don Miguel Ruiz\",\"Donna Tartt\",\"F. Scott Fitzgerald\",\"Rick Riordan\",\"Patrick Thorpe\",\"The College Board\",\"Ree Drummond\",\"Eric Carle\",\"Charles Krauthammer\",\"Harper Lee\",\"William Davis\",\"R. J. Palacio\",\"George R. R. Martin\",\"Anthony Doerr\",\"Thomas Piketty\",\"American Psychiatric Association\",\"Jeff Kinney\",\"Veronica Roth\",\"Veronica Roth\",\"Roger Priddy\",\"RH Disney\",\"Gillian Flynn\",\"David Perlmutter MD\",\"Dale Carnegie\",\"Brandon Stanton\",\"Gayle Forman\",\"Sarah Young\",\"RH Disney\",\"Bill O'Reilly\",\"Rob Elliott\",\"Rob Elliott\",\"Alice Schertle\",\"John Green\",\"Robert Munsch\",\"Ina Garten\",\"Carol S. Dweck\",\"Dr. Seuss\",\"Christina Baker Kline\",\"American Psychological Association\",\"Rush Limbaugh\",\"Gallup\",\"Gary Chapman\",\"Paulo Coelho\",\"Rick Riordan\",\"Markus Zusak\",\"B. J. Novak\",\"Daniel James Brown\",\"Drew Daywalt\",\"John Green\",\"John Green\",\"Donna Tartt\",\"F. Scott Fitzgerald\",\"James Dashner\",\"The College Board\",\"Eric Carle\",\"Thug Kitchen\",\"Harper Lee\",\"DK\",\"Laura Hillenbrand\",\"Laura Hillenbrand\",\"Randall Munroe\",\"R. J. Palacio\",\"Blue Star Coloring\",\"Blue Star Coloring\",\"Coloring Books for Adults\",\"Anthony Doerr\",\"Chris Kyle\",\"DK\",\"Angie Grace\",\"Atul Gawande\",\"Ta-Nehisi Coates\",\"Marjorie Sarnat\",\"Marjorie Sarnat\",\"Rod Campbell\",\"Marty Noble\",\"Johanna Basford\",\"Roger Priddy\",\"Giles Andreae\",\"Harper Lee\",\"E L James\",\"Scholastic\",\"Dale Carnegie\",\"Brandon Stanton\",\"Sarah Young\",\"Bill O'Reilly\",\"Rob Elliott\",\"Rob Elliott\",\"Robert Munsch\",\"Carol S. Dweck\",\"Dr. Seuss\",\"Jeff Kinney\",\"American Psychological Association\",\"Johanna Basford\",\"Gallup\",\"Gary Chapman\",\"Stephen R. Covey\",\"B. J. Novak\",\"Daniel James Brown\",\"Drew Daywalt\",\"Don Miguel Ruiz\",\"Paula Hawkins\",\"Marie Kond\\u014d\",\"Andy Weir\",\"Kristin Hannah\",\"Ree Drummond\",\"Eric Carle\",\"Melissa Hartwig Urban\",\"David McCullough\",\"Thug Kitchen\",\"Harper Lee\",\"Dr. Seuss\",\"R. J. Palacio\",\"JJ Smith\",\"Fredrik Backman\",\"Adult Coloring Book Designs\",\"Ron Chernow\",\"Ta-Nehisi Coates\",\"Bruce Springsteen\",\"Sasha O'Hara\",\"Chrissy Teigen\",\"Rod Campbell\",\"Jeff Kinney\",\"Ray Bradbury\",\"J.K. Rowling\",\"Roger Priddy\",\"Giles Andreae\",\"Lin-Manuel Miranda\",\"J.K. Rowling\",\"J.K. Rowling\",\"J.K. Rowling\",\"J. K. Rowling\",\"J. D. Vance\",\"Dale Carnegie\",\"Sarah Young\",\"Bill O'Reilly\",\"Rob Elliott\",\"Rupi Kaur\",\"Carol S. Dweck\",\"Elie Wiesel\",\"Dr. Seuss\",\"Scholastic\",\"American Psychological Association\",\"Gallup\",\"Gary Chapman\",\"Stephen R. Covey\",\"Delegates of the Constitutional\",\"Don Miguel Ruiz\",\"Paula Hawkins\",\"Sandra Boynton\",\"Marie Kond\\u014d\",\"Chip Gaines\",\"Kristin Hannah\",\"The College Board\",\"Eric Carle\",\"Melissa Hartwig Urban\",\"Emily Winfield Martin\",\"Thug Kitchen\",\"Harper Lee\",\"Lysa TerKeurst\",\"Paul Kalanithi\",\"R. J. Palacio\",\"Jen Sincero\",\"George Orwell\",\"Amor Towles\",\"Fredrik Backman\",\"Neil deGrasse Tyson\",\"Bill Martin Jr.\",\"Rod Campbell\",\"Dav Pilkey\",\"Roger Priddy\",\"Giles Andreae\",\"Margaret Wise Brown\",\"J.K. Rowling\",\"J. D. Vance\",\"Dale Carnegie\",\"Ann Whitford Paul\",\"David Grann\",\"Rob Elliott\",\"Walter Isaacson\",\"Admiral William H. McRaven\",\"Rupi Kaur\",\"Adam Gasiewski\",\"Pete Souza\",\"Dr. Seuss\",\"Sheryl Sandberg\",\"Dan Brown\",\"Wizards RPG Team\",\"American Psychological Association\",\"Golden Books\",\"Ernest Cline\",\"Gallup\",\"Gary Chapman\",\"Stephen R. Covey\",\"Don Miguel Ruiz\",\"Jeff Kinney\",\"Sandra Boynton\",\"Margaret Atwood\",\"Laurel Randolph\",\"Marie Kond\\u014d\",\"Deborah Diesen\",\"William P. Young\",\"Mark Manson\",\"Rupi Kaur\",\"Eric Carle\",\"Melissa Hartwig Urban\",\"Emily Winfield Martin\",\"Jay Asher\",\"Thug Kitchen\",\"Timothy Ferriss\",\"Hillary Rodham Clinton\",\"R. J. Palacio\",\"Jen Sincero\",\"Jordan B. Peterson\",\"James Comey\",\"Madeleine L'Engle\",\"Michelle Obama\",\"Kevin Kwan\",\"Rod Campbell\",\"Dav Pilkey\",\"Dav Pilkey\",\"Dav Pilkey\",\"Tara Westover\",\"Ray Bradbury\",\"Bob Woodward\",\"Michael Wolff\",\"Roger Priddy\",\"Giles Andreae\",\"Rachel Hollis\",\"Margaret Wise Brown\",\"Joanna Gaines\",\"Dale Carnegie\",\"Jennifer Smith\",\"Anthony Bourdain\",\"Jill Twiss\",\"Paper Peony Press\",\"Celeste Ng\",\"Joanna Gaines\",\"Rupi Kaur\",\"Dr. Seuss\",\"Naomi Kleinberg\",\"Wizards RPG Team\",\"American Psychological Association\",\"Ernest Cline\",\"Samin Nosrat\",\"School Zone\",\"Tucker Carlson\",\"Gary Chapman\",\"Amy Ramos\",\"Don Miguel Ruiz\",\"Angie Thomas\",\"Laurel Randolph\",\"Jeff Kinney\",\"Dr. Steven R Gundry MD\",\"Dr. Steven R Gundry MD\",\"Deborah Diesen\",\"James Patterson\",\"Mark Manson\",\"Eric Carle\",\"Emily Winfield Martin\",\"Craig Smith\",\"The Staff of The Late Show with\",\"Jen Sincero\",\"National Geographic Kids\",\"Michelle Obama\",\"Bill Martin Jr.\",\"David Goggins\",\"M Prefontaine\",\"Dav Pilkey\",\"Dav Pilkey\",\"Dav Pilkey\",\"Tara Westover\",\"Giles Andreae\",\"Rachel Hollis\",\"Rachel Hollis\",\"Pretty Simple Press\",\"Margaret Wise Brown\",\"Raina Telgemeier\",\"J. K. Rowling\",\"Howard Stern\",\"Hopscotch Girls\",\"Ann Whitford Paul\",\"Jennifer Smith\",\"Lysa TerKeurst\",\"Crispin Boyer\",\"Amy Shields\",\"Dr. Seuss\",\"Naomi Kleinberg\",\"Wizards RPG Team\",\"Samin Nosrat\",\"School Zone\",\"Nathan W. Pyle\",\"Gary Chapman\",\"Bessel van der Kolk M.D.\",\"Amy Ramos\",\"Don Miguel Ruiz\",\"John Grisham\",\"Marie Kond\\u014d\",\"The Washington Post\",\"Alex Michaelides\",\"Mark Manson\",\"Dave Ramsey\",\"Dinah Bucholz\",\"Eric Carle\",\"Emily Winfield Martin\",\"Craig Smith\",\"Harper Lee\",\"Mark R. Levin\",\"Silly Bear\",\"Adir Levy\",\"Delia Owens\",\"Jeff Kinney\",\"Jen Sincero\",\"Barack Obama\",\"Jeanine Cummins\",\"James Clear\",\"Michelle Obama\",\"Bill Martin Jr.\",\"Sharon Jones\",\"Isabel Wilkerson\",\"Bill Martin Jr.\",\"Dav Pilkey\",\"Tara Westover\",\"Jennie Allen\",\"Giles Andreae\",\"Matthew McConaughey\",\"Ibram X. Kendi\",\"Adam Wallace\",\"Adam Wallace\",\"Ph.D., Katie Stokes, M.Ed.,\",\"Hopscotch Girls\",\"Amelia Hepworth\",\"Ann Whitford Paul\",\"Celeste Ng\",\"Sean Hannity\",\"Joanna Gaines\",\"Stephenie Meyer\",\"Ina Garten\",\"Crystal Radke\",\"Workman Publishing\",\"Workman Publishing\",\"Shannon Roberts\",\"Bob Woodward\",\"School Zone\",\"Gary Chapman\",\"Suzanne Collins\",\"Carole P. Roman\",\"Bessel van der Kolk M.D.\",\"Charlie Mackesy\",\"Jeff Kinney\",\"Don Miguel Ruiz\",\"John Bolton\",\"Alex Michaelides\",\"Erik Larson\",\"Brit Bennett\",\"Eric Carle\",\"Craig Smith\",\"Mary L. Trump Ph.D.\",\"Glennon Doyle\",\"Conor Riordan\",\"Adir Levy\",\"Delia Owens\",\"Dr. Robin DiAngelo\",\"George Orwell\",\"Mark R. Levin\",\"Bren\\u00e9 Brown\",\"James Clear\",\"Jeff Kinney\",\"Bill Martin Jr.\",\"Sharon Jones\",\"Amanda Gorman\",\"Isabel Wilkerson\",\"Karen Frazier\",\"Dav Pilkey\",\"Frank Herbert\",\"Diana Gabaldon\",\"Matthew McConaughey\",\"Suzanne Lang\",\"Adam Wallace\",\"Dale Carnegie\",\"Hopscotch Girls\",\"Amelia Hepworth\",\"Ann Whitford Paul\",\"Colleen Hoover\",\"Crystal Radke\",\"Wonder House Books\",\"Dr. Seuss\",\"Workman Publishing\",\"Bob Woodward\",\"American Psychological Association\",\"Robert T. Kiyosaki\",\"School Zone\",\"Megan Logan MSW LCSW\",\"Robert Greene\",\"Gary Chapman\",\"Paulo Coelho\",\"Bessel van der Kolk M.D.\",\"Charlie Mackesy\",\"Don Miguel Ruiz\",\"Kristin Hannah\",\"Amanda Gorman\",\"Laura Dave\",\"Matt Haig\",\"Robert F. Kennedy Jr.\",\"Taylor Jenkins Reid\",\"Madeline Miller\",\"Dave Grohl\",\"Mark Manson\",\"Eric Carle\",\"Emily Winfield Martin\",\"Adam Silvera\",\"Glennon Doyle\",\"E. Lockhart\",\"Jenson William\",\"Bren\\u00e9 Brown\",\"James Clear\",\"Bill Martin Jr.\",\"Sharon Jones\",\"Snoop Dogg\",\"Sarah J. Maas\",\"Adam Wallace\",\"Dale Carnegie\",\"Amelia Hepworth\",\"Ann Whitford Paul\",\"Colleen Hoover\",\"Tony Robbins\",\"Alice Schertle\",\"Anna Dewdney\",\"Art Spiegelman\",\"Crystal Radke\",\"Deborah Hopkinson\",\"Colleen Hoover\",\"Ray Dalio\",\"Rand McNally\",\"Peter Schweizer\",\"Colleen Hoover\",\"Robert T. Kiyosaki\",\"James Patterson\",\"School Zone\",\"Nikole Hannah-Jones\",\"Robert Greene\",\"Gary Chapman\",\"Paulo Coelho\",\"Bessel van der Kolk M.D.\",\"Charlie Mackesy\",\"Art Spiegelman\",\"Don Miguel Ruiz\",\"Glenn Beck\",\"Laura Dave\",\"Amor Towles\",\"Ali Hazelwood\",\"Nita Prose\",\"Matt Haig\",\"Robert F. Kennedy Jr.\",\"Taylor Jenkins Reid\",\"Mark Manson\",\"Eric Carle\",\"Stephen Perrine\",\"Emily Winfield Martin\",\"Colleen Hoover\",\"Colleen Hoover\",\"Heidi Murkoff\",\"Delia Owens\"],\"yaxis\":\"y\",\"type\":\"scatter\"}],                        {\"template\":{\"data\":{\"bar\":[{\"error_x\":{\"color\":\"#2a3f5f\"},\"error_y\":{\"color\":\"#2a3f5f\"},\"marker\":{\"line\":{\"color\":\"#E5ECF6\",\"width\":0.5},\"pattern\":{\"fillmode\":\"overlay\",\"size\":10,\"solidity\":0.2}},\"type\":\"bar\"}],\"barpolar\":[{\"marker\":{\"line\":{\"color\":\"#E5ECF6\",\"width\":0.5},\"pattern\":{\"fillmode\":\"overlay\",\"size\":10,\"solidity\":0.2}},\"type\":\"barpolar\"}],\"carpet\":[{\"aaxis\":{\"endlinecolor\":\"#2a3f5f\",\"gridcolor\":\"white\",\"linecolor\":\"white\",\"minorgridcolor\":\"white\",\"startlinecolor\":\"#2a3f5f\"},\"baxis\":{\"endlinecolor\":\"#2a3f5f\",\"gridcolor\":\"white\",\"linecolor\":\"white\",\"minorgridcolor\":\"white\",\"startlinecolor\":\"#2a3f5f\"},\"type\":\"carpet\"}],\"choropleth\":[{\"colorbar\":{\"outlinewidth\":0,\"ticks\":\"\"},\"type\":\"choropleth\"}],\"contour\":[{\"colorbar\":{\"outlinewidth\":0,\"ticks\":\"\"},\"colorscale\":[[0.0,\"#0d0887\"],[0.1111111111111111,\"#46039f\"],[0.2222222222222222,\"#7201a8\"],[0.3333333333333333,\"#9c179e\"],[0.4444444444444444,\"#bd3786\"],[0.5555555555555556,\"#d8576b\"],[0.6666666666666666,\"#ed7953\"],[0.7777777777777778,\"#fb9f3a\"],[0.8888888888888888,\"#fdca26\"],[1.0,\"#f0f921\"]],\"type\":\"contour\"}],\"contourcarpet\":[{\"colorbar\":{\"outlinewidth\":0,\"ticks\":\"\"},\"type\":\"contourcarpet\"}],\"heatmap\":[{\"colorbar\":{\"outlinewidth\":0,\"ticks\":\"\"},\"colorscale\":[[0.0,\"#0d0887\"],[0.1111111111111111,\"#46039f\"],[0.2222222222222222,\"#7201a8\"],[0.3333333333333333,\"#9c179e\"],[0.4444444444444444,\"#bd3786\"],[0.5555555555555556,\"#d8576b\"],[0.6666666666666666,\"#ed7953\"],[0.7777777777777778,\"#fb9f3a\"],[0.8888888888888888,\"#fdca26\"],[1.0,\"#f0f921\"]],\"type\":\"heatmap\"}],\"heatmapgl\":[{\"colorbar\":{\"outlinewidth\":0,\"ticks\":\"\"},\"colorscale\":[[0.0,\"#0d0887\"],[0.1111111111111111,\"#46039f\"],[0.2222222222222222,\"#7201a8\"],[0.3333333333333333,\"#9c179e\"],[0.4444444444444444,\"#bd3786\"],[0.5555555555555556,\"#d8576b\"],[0.6666666666666666,\"#ed7953\"],[0.7777777777777778,\"#fb9f3a\"],[0.8888888888888888,\"#fdca26\"],[1.0,\"#f0f921\"]],\"type\":\"heatmapgl\"}],\"histogram\":[{\"marker\":{\"pattern\":{\"fillmode\":\"overlay\",\"size\":10,\"solidity\":0.2}},\"type\":\"histogram\"}],\"histogram2d\":[{\"colorbar\":{\"outlinewidth\":0,\"ticks\":\"\"},\"colorscale\":[[0.0,\"#0d0887\"],[0.1111111111111111,\"#46039f\"],[0.2222222222222222,\"#7201a8\"],[0.3333333333333333,\"#9c179e\"],[0.4444444444444444,\"#bd3786\"],[0.5555555555555556,\"#d8576b\"],[0.6666666666666666,\"#ed7953\"],[0.7777777777777778,\"#fb9f3a\"],[0.8888888888888888,\"#fdca26\"],[1.0,\"#f0f921\"]],\"type\":\"histogram2d\"}],\"histogram2dcontour\":[{\"colorbar\":{\"outlinewidth\":0,\"ticks\":\"\"},\"colorscale\":[[0.0,\"#0d0887\"],[0.1111111111111111,\"#46039f\"],[0.2222222222222222,\"#7201a8\"],[0.3333333333333333,\"#9c179e\"],[0.4444444444444444,\"#bd3786\"],[0.5555555555555556,\"#d8576b\"],[0.6666666666666666,\"#ed7953\"],[0.7777777777777778,\"#fb9f3a\"],[0.8888888888888888,\"#fdca26\"],[1.0,\"#f0f921\"]],\"type\":\"histogram2dcontour\"}],\"mesh3d\":[{\"colorbar\":{\"outlinewidth\":0,\"ticks\":\"\"},\"type\":\"mesh3d\"}],\"parcoords\":[{\"line\":{\"colorbar\":{\"outlinewidth\":0,\"ticks\":\"\"}},\"type\":\"parcoords\"}],\"pie\":[{\"automargin\":true,\"type\":\"pie\"}],\"scatter\":[{\"marker\":{\"colorbar\":{\"outlinewidth\":0,\"ticks\":\"\"}},\"type\":\"scatter\"}],\"scatter3d\":[{\"line\":{\"colorbar\":{\"outlinewidth\":0,\"ticks\":\"\"}},\"marker\":{\"colorbar\":{\"outlinewidth\":0,\"ticks\":\"\"}},\"type\":\"scatter3d\"}],\"scattercarpet\":[{\"marker\":{\"colorbar\":{\"outlinewidth\":0,\"ticks\":\"\"}},\"type\":\"scattercarpet\"}],\"scattergeo\":[{\"marker\":{\"colorbar\":{\"outlinewidth\":0,\"ticks\":\"\"}},\"type\":\"scattergeo\"}],\"scattergl\":[{\"marker\":{\"colorbar\":{\"outlinewidth\":0,\"ticks\":\"\"}},\"type\":\"scattergl\"}],\"scattermapbox\":[{\"marker\":{\"colorbar\":{\"outlinewidth\":0,\"ticks\":\"\"}},\"type\":\"scattermapbox\"}],\"scatterpolar\":[{\"marker\":{\"colorbar\":{\"outlinewidth\":0,\"ticks\":\"\"}},\"type\":\"scatterpolar\"}],\"scatterpolargl\":[{\"marker\":{\"colorbar\":{\"outlinewidth\":0,\"ticks\":\"\"}},\"type\":\"scatterpolargl\"}],\"scatterternary\":[{\"marker\":{\"colorbar\":{\"outlinewidth\":0,\"ticks\":\"\"}},\"type\":\"scatterternary\"}],\"surface\":[{\"colorbar\":{\"outlinewidth\":0,\"ticks\":\"\"},\"colorscale\":[[0.0,\"#0d0887\"],[0.1111111111111111,\"#46039f\"],[0.2222222222222222,\"#7201a8\"],[0.3333333333333333,\"#9c179e\"],[0.4444444444444444,\"#bd3786\"],[0.5555555555555556,\"#d8576b\"],[0.6666666666666666,\"#ed7953\"],[0.7777777777777778,\"#fb9f3a\"],[0.8888888888888888,\"#fdca26\"],[1.0,\"#f0f921\"]],\"type\":\"surface\"}],\"table\":[{\"cells\":{\"fill\":{\"color\":\"#EBF0F8\"},\"line\":{\"color\":\"white\"}},\"header\":{\"fill\":{\"color\":\"#C8D4E3\"},\"line\":{\"color\":\"white\"}},\"type\":\"table\"}]},\"layout\":{\"annotationdefaults\":{\"arrowcolor\":\"#2a3f5f\",\"arrowhead\":0,\"arrowwidth\":1},\"autotypenumbers\":\"strict\",\"coloraxis\":{\"colorbar\":{\"outlinewidth\":0,\"ticks\":\"\"}},\"colorscale\":{\"diverging\":[[0,\"#8e0152\"],[0.1,\"#c51b7d\"],[0.2,\"#de77ae\"],[0.3,\"#f1b6da\"],[0.4,\"#fde0ef\"],[0.5,\"#f7f7f7\"],[0.6,\"#e6f5d0\"],[0.7,\"#b8e186\"],[0.8,\"#7fbc41\"],[0.9,\"#4d9221\"],[1,\"#276419\"]],\"sequential\":[[0.0,\"#0d0887\"],[0.1111111111111111,\"#46039f\"],[0.2222222222222222,\"#7201a8\"],[0.3333333333333333,\"#9c179e\"],[0.4444444444444444,\"#bd3786\"],[0.5555555555555556,\"#d8576b\"],[0.6666666666666666,\"#ed7953\"],[0.7777777777777778,\"#fb9f3a\"],[0.8888888888888888,\"#fdca26\"],[1.0,\"#f0f921\"]],\"sequentialminus\":[[0.0,\"#0d0887\"],[0.1111111111111111,\"#46039f\"],[0.2222222222222222,\"#7201a8\"],[0.3333333333333333,\"#9c179e\"],[0.4444444444444444,\"#bd3786\"],[0.5555555555555556,\"#d8576b\"],[0.6666666666666666,\"#ed7953\"],[0.7777777777777778,\"#fb9f3a\"],[0.8888888888888888,\"#fdca26\"],[1.0,\"#f0f921\"]]},\"colorway\":[\"#636efa\",\"#EF553B\",\"#00cc96\",\"#ab63fa\",\"#FFA15A\",\"#19d3f3\",\"#FF6692\",\"#B6E880\",\"#FF97FF\",\"#FECB52\"],\"font\":{\"color\":\"#2a3f5f\"},\"geo\":{\"bgcolor\":\"white\",\"lakecolor\":\"white\",\"landcolor\":\"#E5ECF6\",\"showlakes\":true,\"showland\":true,\"subunitcolor\":\"white\"},\"hoverlabel\":{\"align\":\"left\"},\"hovermode\":\"closest\",\"mapbox\":{\"style\":\"light\"},\"paper_bgcolor\":\"white\",\"plot_bgcolor\":\"#E5ECF6\",\"polar\":{\"angularaxis\":{\"gridcolor\":\"white\",\"linecolor\":\"white\",\"ticks\":\"\"},\"bgcolor\":\"#E5ECF6\",\"radialaxis\":{\"gridcolor\":\"white\",\"linecolor\":\"white\",\"ticks\":\"\"}},\"scene\":{\"xaxis\":{\"backgroundcolor\":\"#E5ECF6\",\"gridcolor\":\"white\",\"gridwidth\":2,\"linecolor\":\"white\",\"showbackground\":true,\"ticks\":\"\",\"zerolinecolor\":\"white\"},\"yaxis\":{\"backgroundcolor\":\"#E5ECF6\",\"gridcolor\":\"white\",\"gridwidth\":2,\"linecolor\":\"white\",\"showbackground\":true,\"ticks\":\"\",\"zerolinecolor\":\"white\"},\"zaxis\":{\"backgroundcolor\":\"#E5ECF6\",\"gridcolor\":\"white\",\"gridwidth\":2,\"linecolor\":\"white\",\"showbackground\":true,\"ticks\":\"\",\"zerolinecolor\":\"white\"}},\"shapedefaults\":{\"line\":{\"color\":\"#2a3f5f\"}},\"ternary\":{\"aaxis\":{\"gridcolor\":\"white\",\"linecolor\":\"white\",\"ticks\":\"\"},\"baxis\":{\"gridcolor\":\"white\",\"linecolor\":\"white\",\"ticks\":\"\"},\"bgcolor\":\"#E5ECF6\",\"caxis\":{\"gridcolor\":\"white\",\"linecolor\":\"white\",\"ticks\":\"\"}},\"title\":{\"x\":0.05},\"xaxis\":{\"automargin\":true,\"gridcolor\":\"white\",\"linecolor\":\"white\",\"ticks\":\"\",\"title\":{\"standoff\":15},\"zerolinecolor\":\"white\",\"zerolinewidth\":2},\"yaxis\":{\"automargin\":true,\"gridcolor\":\"white\",\"linecolor\":\"white\",\"ticks\":\"\",\"title\":{\"standoff\":15},\"zerolinecolor\":\"white\",\"zerolinewidth\":2}}},\"xaxis\":{\"anchor\":\"y\",\"domain\":[0.0,1.0],\"title\":{\"text\":\"index\"}},\"yaxis\":{\"anchor\":\"x\",\"domain\":[0.0,1.0],\"title\":{\"text\":\"value\"}},\"legend\":{\"title\":{\"text\":\"variable\"},\"tracegroupgap\":0},\"margin\":{\"t\":60}},                        {\"responsive\": true}                    ).then(function(){\n",
              "                            \n",
              "var gd = document.getElementById('7b9517f2-712a-4cc5-a817-9a215b79783e');\n",
              "var x = new MutationObserver(function (mutations, observer) {{\n",
              "        var display = window.getComputedStyle(gd).display;\n",
              "        if (!display || display === 'none') {{\n",
              "            console.log([gd, 'removed!']);\n",
              "            Plotly.purge(gd);\n",
              "            observer.disconnect();\n",
              "        }}\n",
              "}});\n",
              "\n",
              "// Listen for the removal of the full notebook cells\n",
              "var notebookContainer = gd.closest('#notebook-container');\n",
              "if (notebookContainer) {{\n",
              "    x.observe(notebookContainer, {childList: true});\n",
              "}}\n",
              "\n",
              "// Listen for the clearing of the current output cell\n",
              "var outputEl = gd.closest('.output');\n",
              "if (outputEl) {{\n",
              "    x.observe(outputEl, {childList: true});\n",
              "}}\n",
              "\n",
              "                        })                };                            </script>        </div>\n",
              "</body>\n",
              "</html>"
            ]
          },
          "metadata": {}
        }
      ]
    }
  ]
}